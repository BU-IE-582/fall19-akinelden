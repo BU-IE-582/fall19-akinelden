{
 "cells": [
  {
   "cell_type": "markdown",
   "metadata": {},
   "source": [
    "# Part 3 Solutions Notebook"
   ]
  },
  {
   "cell_type": "markdown",
   "metadata": {},
   "source": [
    "## Introduction"
   ]
  },
  {
   "cell_type": "markdown",
   "metadata": {},
   "source": [
    "Linen is a sustainable fabric made from cellulosic fibers derived from the stem of the flax plant.<sup>1</sup> Both the fabric and the fibers are named as linen. Linen fibers are much stronger (two to three times) than coton fibers and they dry at a much faster rate yielding cool, absorbent fabrics.<sup>2</sup> Due to its porous nature, linen is a good heat conductor and widely preferred for clothing and bedding in the summer.<sup>2</sup>\n",
    "\n",
    "Linen is used heavily in clothing like dresses, suits, skirts etc. and in home fashion products like curtains, sheets and towels. Detection of defective end-products is highly valuable to manufacturers in those industries and human centered detection methods are highly costly and open to lots of flaws. In offline quality control method, one of the generally used methods, production is stopped to take samples of the product and carry out the tests.<sup>3</sup> Since the production stops for each sample, the cost of monitoring the process increases. Sophisticated quality control using advanced image processing techniques would significantly improve detection and provide manufacturers with enough time to adjust their processes with a lower cost.\n",
    "\n",
    "Also, laundries, textile manufacturers, or chemical vendors may encounter with undesired outcomes in the wash process if the monitoring and process control of linen is not properly performed during the production.<sup>4</sup>"
   ]
  },
  {
   "cell_type": "markdown",
   "metadata": {},
   "source": [
    "## Background Information"
   ]
  },
  {
   "cell_type": "markdown",
   "metadata": {},
   "source": [
    "## Approach"
   ]
  },
  {
   "cell_type": "markdown",
   "metadata": {},
   "source": [
    "The following libraries will be used in this part."
   ]
  },
  {
   "cell_type": "code",
   "execution_count": 1,
   "metadata": {},
   "outputs": [],
   "source": [
    "from PIL import Image\n",
    "import statistics\n",
    "import matplotlib.pyplot as plt\n",
    "import numpy as np"
   ]
  },
  {
   "cell_type": "markdown",
   "metadata": {},
   "source": [
    "## Results"
   ]
  },
  {
   "cell_type": "markdown",
   "metadata": {},
   "source": [
    "## Conclusions and Future Work"
   ]
  },
  {
   "cell_type": "markdown",
   "metadata": {},
   "source": [
    "## References"
   ]
  },
  {
   "cell_type": "markdown",
   "metadata": {},
   "source": [
    "<sup>1</sup> https://textilelearner.blogspot.com/2012/01/linen-fiber-characteristics-of-linen.html\n",
    "\n",
    "<sup>2</sup> https://www.thespruce.com/definition-of-linen-fabric-1976785\n",
    "\n",
    "<sup>3</sup> https://www.textilemates.com/textile-testing-quality-control-fibre-testing-fabric-testing-yarn-testing\n",
    "\n",
    "<sup>4</sup> https://www.almnet.org/page/TestPiece"
   ]
  },
  {
   "cell_type": "markdown",
   "metadata": {},
   "source": [
    "> **NOTE:** The source code is available at [here](https://github.com/BU-IE-582/fall19-akinelden/blob/master/Project_Part3/Part3.ipynb) "
   ]
  }
 ],
 "metadata": {
  "kernelspec": {
   "display_name": "Python 3",
   "language": "python",
   "name": "python3"
  },
  "language_info": {
   "codemirror_mode": {
    "name": "ipython",
    "version": 3
   },
   "file_extension": ".py",
   "mimetype": "text/x-python",
   "name": "python",
   "nbconvert_exporter": "python",
   "pygments_lexer": "ipython3",
   "version": "3.7.1"
  }
 },
 "nbformat": 4,
 "nbformat_minor": 4
}
