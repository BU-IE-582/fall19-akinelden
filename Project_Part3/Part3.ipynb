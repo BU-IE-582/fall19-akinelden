{
 "cells": [
  {
   "cell_type": "markdown",
   "metadata": {},
   "source": [
    "# Part 3 Solutions Notebook"
   ]
  },
  {
   "cell_type": "markdown",
   "metadata": {},
   "source": [
    "## Introduction"
   ]
  },
  {
   "cell_type": "markdown",
   "metadata": {},
   "source": [
    "Linen is a sustainable fabric made from cellulosic fibers derived from the stem of the flax plant.<sup>1</sup> Both the fabric and the fibers are named as linen. Linen fibers are much stronger (two to three times) than coton fibers and they dry at a much faster rate yielding cool, absorbent fabrics.<sup>2</sup> Due to its porous nature, linen is a good heat conductor and widely preferred for clothing and bedding in the summer.<sup>2</sup>\n",
    "\n",
    "Linen is used heavily in clothing like dresses, suits, skirts etc. and in home fashion products like curtains, sheets and towels. Detection of defective end-products is highly valuable to manufacturers in those industries and human centered detection methods are highly costly and open to lots of flaws. In offline quality control method, one of the generally used methods, production is stopped to take samples of the product and carry out the tests.<sup>3</sup> Since the production stops for each sample, the cost of monitoring the process increases. Sophisticated quality control using advanced image processing techniques would significantly improve detection and provide manufacturers with enough time to adjust their processes with a lower cost.\n",
    "\n",
    "Also, laundries, textile manufacturers, or chemical vendors may encounter with undesired outcomes in the wash process if the monitoring and process control of linen is not properly performed during the production.<sup>4</sup>"
   ]
  },
  {
   "cell_type": "markdown",
   "metadata": {},
   "source": [
    "## Background Information"
   ]
  },
  {
   "cell_type": "markdown",
   "metadata": {},
   "source": [
    "For the further steps of this project, a literature review regarding the quality control for linen products could include what is considered a defect in a fabric and how to detect them through image processing. In this part of the report, both of those points will be elaborated by a number of past and concurrent studies.\n",
    "\n",
    "The essential types of defects on a fabric for most manufacturers are warp or weft threads, oil stains and holes <sup>5</sup>. A missing thread in warp or weft is the irregularity of the texture in some specific parts of the fabric, which is the case for most of the linen images to be inspected in this project. Oil stains is another common flaw in the fabrics resulting from the lube applied to the textile machines. Lastly, the “void areas” on a fabric is also a defect stemming from the frictions during the displacement of the fabric roll <sup>5</sup>.\n",
    "\n",
    "As to the image processing, greyscale filtering and binarization seem to be a widely used technique. Binarization simply means determining a threshold for the grey-scaled image and labelling the pixels to either one or zero, meaning white and black <sup>6</sup>. To determine a threshold, eyeballing on the histogram could be a naive method to implement <sup>8</sup>. Alternatively, a number of advanced methods namely, clustering, interclass variance and entropy are mentioned in some related articles <sup>6</sup>. After the binarization, some extra modifications to create an image consisting of larger white and black regions, in other words, to eliminate trivially small white areas, can also be applied for better results <sup>8</sup>.  \n",
    "\n",
    "After the filtering and modification of the image, most of the studies focuses on data mining techniques for detection and classification of defects. Semi-algebraic networks is the method used in the conference paper of Blaga M. to identify defective and non-defective areas <sup>8</sup>, whereas, a modified version of K-means clustering is applied in the study of Jeong. S <sup>8</sup>. A totally algebraic approach without data mining techniques in the detection of defects can be found on the paper of Mohamed Jmali<sup>5</sup>. From white and black intensities in the sections of binarized image and the differences of number of white and black pixels in the adjacent rows, three different but similar methods are presented for three types of defects.  When it comes to the classification of the defects, neural networks and fuzzy c-means algorithms are deployed in the articles of Jmali <sup>5</sup> and Jeong S. <sup>7</sup>."
   ]
  },
  {
   "cell_type": "markdown",
   "metadata": {},
   "source": [
    "## Approach"
   ]
  },
  {
   "cell_type": "markdown",
   "metadata": {},
   "source": [
    "The following libraries will be used in this part."
   ]
  },
  {
   "cell_type": "code",
   "execution_count": 1,
   "metadata": {},
   "outputs": [],
   "source": [
    "from PIL import Image\n",
    "import statistics\n",
    "import matplotlib.pyplot as plt\n",
    "import numpy as np"
   ]
  },
  {
   "cell_type": "markdown",
   "metadata": {},
   "source": [
    "## Results"
   ]
  },
  {
   "cell_type": "markdown",
   "metadata": {},
   "source": [
    "## Conclusions and Future Work"
   ]
  },
  {
   "cell_type": "markdown",
   "metadata": {},
   "source": [
    "## References"
   ]
  },
  {
   "cell_type": "markdown",
   "metadata": {},
   "source": [
    "<sup>1</sup> https://textilelearner.blogspot.com/2012/01/linen-fiber-characteristics-of-linen.html\n",
    "\n",
    "<sup>2</sup> https://www.thespruce.com/definition-of-linen-fabric-1976785\n",
    "\n",
    "<sup>3</sup> https://www.textilemates.com/textile-testing-quality-control-fibre-testing-fabric-testing-yarn-testing\n",
    "\n",
    "<sup>4</sup> https://www.almnet.org/page/TestPiece\n",
    "\n",
    "<sup>5</sup> Jmali Mohamed, Zitouni Baghdadi And Sakli Faouzi \" Classification of Fabrics Defects Using Image Analysis and Fuzzy C‐Means Method\", International Conference of Applied Research On Textile, Citrat‐6, Hammamet, Tunisia, November 13 – 15, 2014.\n",
    "\n",
    "<sup>6</sup> Jeong. S, Choi. H, Kim. S, Jaung. J.Y and Kim. S. H (2001): “Detecting Fabric Defects with Computer Vision and Fuzzy Rule Generation. Part I: Defect Classification by Image Processing”, Textile Research Journal, 71(6), pp. 518‐526.\n",
    "\n",
    "<sup>7</sup> Jeong. S, Choi. H, Kim. S, Jaung. J.Y and Kim. S. H (2001): “Detecting Fabric Defects with Computer Vision and Fuzzy Rule Generation. Part II: Defect Identification by a Fuzzy Expert System”, Textile Research Journal, 71(6), pp. 563‐573.\n",
    "\n",
    "<sup>8</sup> Blaga Mirela (2009): “Computer Vision Systems for Textiles Quality Control”, The 6th International Conference Management of Technological Changes, Greece, September 2009."
   ]
  },
  {
   "cell_type": "markdown",
   "metadata": {},
   "source": [
    "> **NOTE:** The source code is available at [here](https://github.com/BU-IE-582/fall19-akinelden/blob/master/Project_Part3/Part3.ipynb) "
   ]
  }
 ],
 "metadata": {
  "kernelspec": {
   "display_name": "Python 3",
   "language": "python",
   "name": "python3"
  },
  "language_info": {
   "codemirror_mode": {
    "name": "ipython",
    "version": 3
   },
   "file_extension": ".py",
   "mimetype": "text/x-python",
   "name": "python",
   "nbconvert_exporter": "python",
   "pygments_lexer": "ipython3",
   "version": "3.7.1"
  }
 },
 "nbformat": 4,
 "nbformat_minor": 4
}
